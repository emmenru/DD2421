{
 "cells": [
  {
   "cell_type": "markdown",
   "metadata": {},
   "source": [
    "# Lab 3: Bayes Classifier and Boosting"
   ]
  },
  {
   "cell_type": "markdown",
   "metadata": {},
   "source": [
    "## Jupyter notebooks\n",
    "\n",
    "In this lab, you can use Jupyter <https://jupyter.org/> to get a nice layout of your code and plots in one document. However, you may also use Python as usual, without Jupyter.\n",
    "\n",
    "If you have Python and pip, you can install Jupyter with `sudo pip install jupyter`. Otherwise you can follow the instruction on <http://jupyter.readthedocs.org/en/latest/install.html>.\n",
    "\n",
    "And that is everything you need! Now use a terminal to go into the folder with the provided lab files. Then run `jupyter notebook` to start a session in that folder. Click `lab3.ipynb` in the browser window that appeared to start this very notebook. You should click on the cells in order and either press `ctrl+enter` or `run cell` in the toolbar above to evaluate all the expressions.\n",
    "\n",
    "Be sure to put `%matplotlib inline` at the top of every code cell where you call plotting functions to get the resulting plots inside the document."
   ]
  },
  {
   "cell_type": "markdown",
   "metadata": {},
   "source": [
    "## Import the libraries\n",
    "\n",
    "In Jupyter, select the cell below and press `ctrl + enter` to import the needed libraries.\n",
    "Check out `labfuns.py` if you are interested in the details."
   ]
  },
  {
   "cell_type": "code",
   "execution_count": 1,
   "metadata": {},
   "outputs": [
    {
     "name": "stdout",
     "output_type": "stream",
     "text": [
      "Requirement already satisfied: numpy in /usr/local/lib/python2.7/site-packages (1.16.6)\n",
      "Requirement already satisfied: scipy in /usr/local/lib/python2.7/site-packages (1.2.3)\n",
      "Requirement already satisfied: numpy>=1.8.2 in /usr/local/lib/python2.7/site-packages (from scipy) (1.16.6)\n",
      "Requirement already satisfied: matplotlib in /Users/emmafrid/Library/Python/2.7/lib/python/site-packages (2.0.2)\n",
      "Requirement already satisfied: subprocess32 in /usr/local/lib/python2.7/site-packages (from matplotlib) (3.5.4)\n",
      "Requirement already satisfied: pyparsing!=2.0.4,!=2.1.2,!=2.1.6,>=1.5.6 in /usr/local/lib/python2.7/site-packages (from matplotlib) (2.4.6)\n",
      "Requirement already satisfied: pytz in /usr/local/lib/python2.7/site-packages (from matplotlib) (2019.3)\n",
      "Requirement already satisfied: six>=1.10 in /usr/local/lib/python2.7/site-packages (from matplotlib) (1.14.0)\n",
      "Requirement already satisfied: functools32 in /usr/local/lib/python2.7/site-packages (from matplotlib) (3.2.3.post2)\n",
      "Requirement already satisfied: python-dateutil in /usr/local/lib/python2.7/site-packages (from matplotlib) (2.8.1)\n",
      "Requirement already satisfied: cycler>=0.10 in /usr/local/lib/python2.7/site-packages (from matplotlib) (0.10.0)\n",
      "Requirement already satisfied: numpy>=1.7.1 in /usr/local/lib/python2.7/site-packages (from matplotlib) (1.16.6)\n",
      "Requirement already satisfied: sklearn in /usr/local/lib/python2.7/site-packages (0.0)\n",
      "Requirement already satisfied: scikit-learn in /usr/local/lib/python2.7/site-packages (from sklearn) (0.20.4)\n",
      "Requirement already satisfied: scipy>=0.13.3 in /usr/local/lib/python2.7/site-packages (from scikit-learn->sklearn) (1.2.3)\n",
      "Requirement already satisfied: numpy>=1.8.2 in /usr/local/lib/python2.7/site-packages (from scikit-learn->sklearn) (1.16.6)\n",
      "Requirement already satisfied: seaborn in /usr/local/lib/python2.7/site-packages (0.9.1)\n",
      "Requirement already satisfied: matplotlib>=1.5.3 in /Users/emmafrid/Library/Python/2.7/lib/python/site-packages (from seaborn) (2.0.2)\n",
      "Requirement already satisfied: pandas>=0.17.1 in /usr/local/lib/python2.7/site-packages (from seaborn) (0.24.2)\n",
      "Requirement already satisfied: numpy>=1.10.4 in /usr/local/lib/python2.7/site-packages (from seaborn) (1.16.6)\n",
      "Requirement already satisfied: scipy>=0.17.1 in /usr/local/lib/python2.7/site-packages (from seaborn) (1.2.3)\n",
      "Requirement already satisfied: subprocess32 in /usr/local/lib/python2.7/site-packages (from matplotlib>=1.5.3->seaborn) (3.5.4)\n",
      "Requirement already satisfied: pyparsing!=2.0.4,!=2.1.2,!=2.1.6,>=1.5.6 in /usr/local/lib/python2.7/site-packages (from matplotlib>=1.5.3->seaborn) (2.4.6)\n",
      "Requirement already satisfied: pytz in /usr/local/lib/python2.7/site-packages (from matplotlib>=1.5.3->seaborn) (2019.3)\n",
      "Requirement already satisfied: six>=1.10 in /usr/local/lib/python2.7/site-packages (from matplotlib>=1.5.3->seaborn) (1.14.0)\n",
      "Requirement already satisfied: functools32 in /usr/local/lib/python2.7/site-packages (from matplotlib>=1.5.3->seaborn) (3.2.3.post2)\n",
      "Requirement already satisfied: python-dateutil in /usr/local/lib/python2.7/site-packages (from matplotlib>=1.5.3->seaborn) (2.8.1)\n",
      "Requirement already satisfied: cycler>=0.10 in /usr/local/lib/python2.7/site-packages (from matplotlib>=1.5.3->seaborn) (0.10.0)\n"
     ]
    }
   ],
   "source": [
    "# Install pip packages in the current Jupyter kernel\n",
    "import sys\n",
    "!{sys.executable} -m pip install numpy\n",
    "!{sys.executable} -m pip install scipy\n",
    "!{sys.executable} -m pip install matplotlib\n",
    "!{sys.executable} -m pip install sklearn\n",
    "!{sys.executable} -m pip install seaborn\n"
   ]
  },
  {
   "cell_type": "code",
   "execution_count": 2,
   "metadata": {
    "scrolled": true
   },
   "outputs": [],
   "source": [
    "import numpy as np\n",
    "from scipy import misc\n",
    "from imp import reload\n",
    "from labfuns import *\n",
    "import random"
   ]
  },
  {
   "cell_type": "markdown",
   "metadata": {},
   "source": [
    "## Bayes classifier functions to implement\n",
    "\n",
    "The lab descriptions state what each function should do."
   ]
  },
  {
   "cell_type": "code",
   "execution_count": 160,
   "metadata": {},
   "outputs": [],
   "source": [
    "# NOTE: you do not need to handle the W argument for this part!\n",
    "# in: labels - N vector of class labels\n",
    "# out: prior - C x 1 vector of class priors\n",
    "def computePrior(labels, W=None):\n",
    "    #print labels \n",
    "    #print W \n",
    "    #W is the weights vector \n",
    "    Npts = labels.shape[0]\n",
    "    if W is None:\n",
    "        W = np.ones((Npts,1))/Npts\n",
    "    else:\n",
    "        assert(W.shape[0] == Npts)\n",
    "    classes = np.unique(labels)\n",
    "    Nclasses = np.size(classes)\n",
    "\n",
    "    # create empty vector for priors \n",
    "    prior = np.zeros((Nclasses,1))\n",
    "    \n",
    "    # TODO: compute the values of prior for each class!\n",
    "    # ==========================  \n",
    "    for n, classname in enumerate(classes):\n",
    "        # see equation (8) in lab instruction\n",
    "        # modified to equation (13)\n",
    "        indices = np.where(labels == classname)[0]\n",
    "        rows = W[indices,:] #output all columns for row indices and multiply by weights\n",
    "        prior[n,:] = np.sum(rows) / np.sum(W) \n",
    "    # ========================== \n",
    "    return prior #priors for respective class\n",
    "    \n",
    "    \n",
    "\n",
    "# NOTE: you do not need to handle the W argument for this part!\n",
    "# in:      X - N x d matrix of N data points\n",
    "#     labels - N vector of class labels\n",
    "# out:    mu - C x d matrix of class means (mu[i] - class i mean)\n",
    "#      sigma - C x d x d matrix of class covariances (sigma[i] - class i sigma)\n",
    "def mlParams(X, labels, W=None):\n",
    "    assert(X.shape[0]==labels.shape[0])\n",
    "    Npts,Ndims = np.shape(X)\n",
    "    classes = np.unique(labels)\n",
    "    Nclasses = np.size(classes)\n",
    "\n",
    "    if W is None:\n",
    "        W = np.ones((Npts,1))/float(Npts)\n",
    "\n",
    "    mu = np.zeros((Nclasses,Ndims))\n",
    "    sigma = np.zeros((Nclasses,Ndims,Ndims))\n",
    "\n",
    "    # TODO: fill in the code to compute mu and sigma!\n",
    "    # ==========================\n",
    "    # C = set of classes \n",
    "    # mu = C x d = array that contains the class means\n",
    "    # sigma = a C x d x d-array sigma that contains the class covariances\n",
    "    \n",
    "    for n, classname in enumerate(classes):\n",
    "        indices = np.where(labels == classname)[0] # indices for a given class\n",
    "        xs = X[indices,:] # x vals for particular class \n",
    "        ws = W[indices,:] # weights for particular class\n",
    "        # equation 9 \n",
    "        mu[n] = np.dot(ws.transpose(),xs)/np.sum(ws,axis=0) # axis=0 to still have numpy array\n",
    "        # see equation (10) in lab instruction\n",
    "        # modified to equation (14)\n",
    "        sigma[n] = np.diag((np.dot(np.transpose(ws), (xs - mu[n,:])**2) / np.sum(ws))[0])               \n",
    "       # ==========================\n",
    "    return mu, sigma\n",
    "\n",
    "# in:      X - N x d matrix of M data points\n",
    "#      prior - C x 1 matrix of class priors\n",
    "#         mu - C x d matrix of class means (mu[i] - class i mean)\n",
    "#      sigma - C x d x d matrix of class covariances (sigma[i] - class i sigma)\n",
    "# out:     h - N vector of class predictions for test points\n",
    "def classifyBayes(X, prior, mu, sigma):\n",
    "    #equation 11\n",
    "    Npts = X.shape[0] # number of data points\n",
    "    Nclasses,Ndims = np.shape(mu)\n",
    "    logProb = np.zeros((Nclasses, Npts))\n",
    "\n",
    "    # TODO: fill in the code to compute the log posterior logProb!\n",
    "    # ==========================\n",
    "    #term_1 = -1/2 ln(determinant(sigma))\n",
    "    #term_2 = -1/2....\n",
    "    #term_3 = p(k) = Nk/N, i.e freq of occurences of different classes \n",
    "    for n in range(Nclasses): #iterate over classes\n",
    "        term_1 = -0.5*np.log(np.linalg.det(sigma[n])) \n",
    "        sigma_inv = np.diag(1.0 / np.diag(sigma[n])) # why diagonal?\n",
    "        term_2 = -0.5*np.diag(np.dot(np.dot((X-mu[n]), sigma_inv),np.transpose(X-mu[n]))) # diag to only pick diagonal ms?\n",
    "        term_3 = np.log(prior[n]) \n",
    "        logProb[n,:] = term_1 + term_2 + term_3\n",
    "        # ==========================    \n",
    "    # one possible way of finding max a-posteriori once\n",
    "    # you have computed the log posterior\n",
    "    h = np.argmax(logProb,axis=0)\n",
    "    return h"
   ]
  },
  {
   "cell_type": "markdown",
   "metadata": {},
   "source": [
    "The implemented functions can now be summarized into the `BayesClassifier` class, which we will use later to test the classifier, no need to add anything else here:"
   ]
  },
  {
   "cell_type": "code",
   "execution_count": 161,
   "metadata": {},
   "outputs": [],
   "source": [
    "# NOTE: no need to touch this\n",
    "class BayesClassifier(object):\n",
    "    def __init__(self):\n",
    "        self.trained = False\n",
    "\n",
    "    def trainClassifier(self, X, labels, W=None):\n",
    "        rtn = BayesClassifier()\n",
    "        rtn.prior = computePrior(labels, W)\n",
    "        rtn.mu, rtn.sigma = mlParams(X, labels, W)\n",
    "        rtn.trained = True\n",
    "        return rtn\n",
    "\n",
    "    def classify(self, X):\n",
    "        return classifyBayes(X, self.prior, self.mu, self.sigma)"
   ]
  },
  {
   "cell_type": "markdown",
   "metadata": {},
   "source": [
    "## Test the Maximum Likelihood estimates\n",
    "\n",
    "Call `genBlobs` and `plotGaussian` to verify your estimates."
   ]
  },
  {
   "cell_type": "code",
   "execution_count": 162,
   "metadata": {},
   "outputs": [
    {
     "data": {
      "image/png": "[encoded data removed]",
      "text/plain": [
       "<matplotlib.figure.Figure at 0x11943f8d0>"
      ]
     },
     "metadata": {
      "needs_background": "light"
     },
     "output_type": "display_data"
    }
   ],
   "source": [
    "%matplotlib inline\n",
    "\n",
    "X, labels = genBlobs(centers=5)\n",
    "mu, sigma = mlParams(X,labels)\n",
    "prior = computePrior(labels)\n",
    "classifyBayes(X, prior, mu, sigma)\n",
    "\n",
    "plotGaussian(X,labels,mu,sigma)"
   ]
  },
  {
   "cell_type": "markdown",
   "metadata": {},
   "source": [
    "Call the `testClassifier` and `plotBoundary` functions for this part."
   ]
  },
  {
   "cell_type": "code",
   "execution_count": 163,
   "metadata": {},
   "outputs": [
    {
     "name": "stdout",
     "output_type": "stream",
     "text": [
      "Trial: 0 Accuracy 84.4\n",
      "Trial: 10 Accuracy 95.6\n",
      "Trial: 20 Accuracy 93.3\n",
      "Trial: 30 Accuracy 86.7\n",
      "Trial: 40 Accuracy 88.9\n",
      "Trial: 50 Accuracy 91.1\n",
      "Trial: 60 Accuracy 86.7\n",
      "Trial: 70 Accuracy 91.1\n",
      "Trial: 80 Accuracy 86.7\n",
      "Trial: 90 Accuracy 91.1\n",
      "Final mean classification accuracy  89 with standard deviation 4.16\n"
     ]
    }
   ],
   "source": [
    "# this is what you need to run to test the functions\n",
    "testClassifier(BayesClassifier(), dataset='iris', split=0.7)"
   ]
  },
  {
   "cell_type": "code",
   "execution_count": 164,
   "metadata": {},
   "outputs": [
    {
     "name": "stdout",
     "output_type": "stream",
     "text": [
      "Trial: 0 Accuracy 61\n",
      "Trial: 10 Accuracy 66.2\n",
      "Trial: 20 Accuracy 74\n",
      "Trial: 30 Accuracy 66.9\n",
      "Trial: 40 Accuracy 59.7\n",
      "Trial: 50 Accuracy 64.3\n",
      "Trial: 60 Accuracy 66.9\n",
      "Trial: 70 Accuracy 63.6\n",
      "Trial: 80 Accuracy 62.3\n",
      "Trial: 90 Accuracy 70.8\n",
      "Final mean classification accuracy  64.7 with standard deviation 4.03\n"
     ]
    }
   ],
   "source": [
    "testClassifier(BayesClassifier(), dataset='vowel', split=0.7)"
   ]
  },
  {
   "cell_type": "code",
   "execution_count": 165,
   "metadata": {},
   "outputs": [
    {
     "data": {
      "image/png": "[encoded data removed]",
      "text/plain": [
       "<matplotlib.figure.Figure at 0x11930ffd0>"
      ]
     },
     "metadata": {
      "needs_background": "light"
     },
     "output_type": "display_data"
    }
   ],
   "source": [
    "%matplotlib inline\n",
    "plotBoundary(BayesClassifier(), dataset='iris', split=0.7)"
   ]
  },
  {
   "cell_type": "markdown",
   "metadata": {},
   "source": [
    "## Boosting functions to implement\n",
    "\n",
    "The lab descriptions state what each function should do."
   ]
  },
  {
   "cell_type": "code",
   "execution_count": null,
   "metadata": {},
   "outputs": [],
   "source": [
    "# in: base_classifier - a classifier of the type that we will boost, e.g. BayesClassifier\n",
    "#                   X - N x d matrix of N data points\n",
    "#              labels - N vector of class labels\n",
    "#                   T - number of boosting iterations\n",
    "# out:    classifiers - (maximum) length T Python list of trained classifiers\n",
    "#              alphas - (maximum) length T Python list of vote weights\n",
    "def trainBoost(base_classifier, X, labels, T=10):\n",
    "    # these will come in handy later on\n",
    "    Npts,Ndims = np.shape(X)\n",
    "\n",
    "    classifiers = [] # append new classifiers to this list\n",
    "    alphas = [] # append the vote weight of the classifiers to this list\n",
    "\n",
    "    # The weights for the first iteration\n",
    "    wCur = np.ones((Npts,1))/float(Npts)\n",
    "\n",
    "    for i_iter in range(0, T):\n",
    "        # a new classifier can be trained like this, given the current weights\n",
    "        classifiers.append(base_classifier.trainClassifier(X, labels, wCur))\n",
    "        #print \"train classifier is running here\"\n",
    "\n",
    "        # do classification for each point\n",
    "        vote = classifiers[-1].classify(X)\n",
    "\n",
    "        # TODO: Fill in the rest, construct the alphas etc.\n",
    "        # ==========================\n",
    "        \n",
    "        # alphas.append(alpha) # you will need to append the new alpha\n",
    "        # ==========================\n",
    "        \n",
    "    return classifiers, alphas\n",
    "\n",
    "# in:       X - N x d matrix of N data points\n",
    "# classifiers - (maximum) length T Python list of trained classifiers as above\n",
    "#      alphas - (maximum) length T Python list of vote weights\n",
    "#    Nclasses - the number of different classes\n",
    "# out:  yPred - N vector of class predictions for test points\n",
    "def classifyBoost(X, classifiers, alphas, Nclasses):\n",
    "    Npts = X.shape[0]\n",
    "    Ncomps = len(classifiers)\n",
    "\n",
    "    # if we only have one classifier, we may just classify directly\n",
    "    if Ncomps == 1:\n",
    "        return classifiers[0].classify(X)\n",
    "    else:\n",
    "        votes = np.zeros((Npts,Nclasses))\n",
    "\n",
    "        # TODO: implement classificiation when we have trained several classifiers!\n",
    "        # here we can do it by filling in the votes vector with weighted votes\n",
    "        # ==========================\n",
    "        \n",
    "        # ==========================\n",
    "\n",
    "        # one way to compute yPred after accumulating the votes\n",
    "        return np.argmax(votes,axis=1)"
   ]
  },
  {
   "cell_type": "markdown",
   "metadata": {},
   "source": [
    "The implemented functions can now be summarized another classifer, the `BoostClassifier` class. This class enables boosting different types of classifiers by initializing it with the `base_classifier` argument. No need to add anything here."
   ]
  },
  {
   "cell_type": "code",
   "execution_count": null,
   "metadata": {},
   "outputs": [],
   "source": [
    "# NOTE: no need to touch this\n",
    "class BoostClassifier(object):\n",
    "    def __init__(self, base_classifier, T=10):\n",
    "        self.base_classifier = base_classifier\n",
    "        self.T = T\n",
    "        self.trained = False\n",
    "\n",
    "    def trainClassifier(self, X, labels):\n",
    "        rtn = BoostClassifier(self.base_classifier, self.T)\n",
    "        rtn.nbr_classes = np.size(np.unique(labels))\n",
    "        rtn.classifiers, rtn.alphas = trainBoost(self.base_classifier, X, labels, self.T)\n",
    "        rtn.trained = True\n",
    "        #print rtn \n",
    "        return rtn\n",
    "\n",
    "    def classify(self, X):\n",
    "        return classifyBoost(X, self.classifiers, self.alphas, self.nbr_classes)"
   ]
  },
  {
   "cell_type": "markdown",
   "metadata": {},
   "source": [
    "## Run some experiments\n",
    "\n",
    "Call the `testClassifier` and `plotBoundary` functions for this part."
   ]
  },
  {
   "cell_type": "code",
   "execution_count": null,
   "metadata": {},
   "outputs": [],
   "source": [
    "testClassifier(BoostClassifier(BayesClassifier(), T=10), dataset='iris',split=0.7)"
   ]
  },
  {
   "cell_type": "code",
   "execution_count": null,
   "metadata": {},
   "outputs": [],
   "source": [
    "testClassifier(BoostClassifier(BayesClassifier(), T=10), dataset='vowel',split=0.7)"
   ]
  },
  {
   "cell_type": "code",
   "execution_count": null,
   "metadata": {},
   "outputs": [],
   "source": [
    "%matplotlib inline\n",
    "plotBoundary(BoostClassifier(BayesClassifier()), dataset='iris',split=0.7)"
   ]
  },
  {
   "cell_type": "markdown",
   "metadata": {},
   "source": [
    "Now repeat the steps with a decision tree classifier."
   ]
  },
  {
   "cell_type": "code",
   "execution_count": null,
   "metadata": {},
   "outputs": [],
   "source": [
    "testClassifier(DecisionTreeClassifier(), dataset='iris', split=0.7)"
   ]
  },
  {
   "cell_type": "code",
   "execution_count": null,
   "metadata": {},
   "outputs": [],
   "source": [
    "testClassifier(BoostClassifier(DecisionTreeClassifier(), T=10), dataset='iris',split=0.7)"
   ]
  },
  {
   "cell_type": "code",
   "execution_count": null,
   "metadata": {},
   "outputs": [],
   "source": [
    "testClassifier(DecisionTreeClassifier(), dataset='vowel',split=0.7)"
   ]
  },
  {
   "cell_type": "code",
   "execution_count": null,
   "metadata": {},
   "outputs": [],
   "source": [
    "testClassifier(BoostClassifier(DecisionTreeClassifier(), T=10), dataset='vowel',split=0.7)"
   ]
  },
  {
   "cell_type": "code",
   "execution_count": null,
   "metadata": {},
   "outputs": [],
   "source": [
    "%matplotlib inline\n",
    "plotBoundary(DecisionTreeClassifier(), dataset='iris',split=0.7)"
   ]
  },
  {
   "cell_type": "code",
   "execution_count": null,
   "metadata": {},
   "outputs": [],
   "source": [
    "%matplotlib inline\n",
    "plotBoundary(BoostClassifier(DecisionTreeClassifier(), T=10), dataset='iris',split=0.7)"
   ]
  },
  {
   "cell_type": "markdown",
   "metadata": {},
   "source": [
    "## Bonus: Visualize faces classified using boosted decision trees\n",
    "\n",
    "Note that this part of the assignment is completely voluntary! First, let's check how a boosted decision tree classifier performs on the olivetti data. Note that we need to reduce the dimension a bit using PCA, as the original dimension of the image vectors is `64 x 64 = 4096` elements."
   ]
  },
  {
   "cell_type": "code",
   "execution_count": null,
   "metadata": {},
   "outputs": [],
   "source": [
    "testClassifier(BayesClassifier(), dataset='olivetti',split=0.7, dim=20)"
   ]
  },
  {
   "cell_type": "code",
   "execution_count": null,
   "metadata": {},
   "outputs": [],
   "source": [
    "testClassifier(BoostClassifier(DecisionTreeClassifier(), T=10), dataset='olivetti',split=0.7, dim=20)"
   ]
  },
  {
   "cell_type": "markdown",
   "metadata": {},
   "source": [
    "You should get an accuracy around 70%. If you wish, you can compare this with using pure decision trees or a boosted bayes classifier. Not too bad, now let's try and classify a face as belonging to one of 40 persons!"
   ]
  },
  {
   "cell_type": "code",
   "execution_count": null,
   "metadata": {},
   "outputs": [],
   "source": [
    "%matplotlib inline\n",
    "X,y,pcadim = fetchDataset('olivetti') # fetch the olivetti data\n",
    "xTr,yTr,xTe,yTe,trIdx,teIdx = trteSplitEven(X,y,0.7) # split into training and testing\n",
    "pca = decomposition.PCA(n_components=20) # use PCA to reduce the dimension to 20\n",
    "pca.fit(xTr) # use training data to fit the transform\n",
    "xTrpca = pca.transform(xTr) # apply on training data\n",
    "xTepca = pca.transform(xTe) # apply on test data\n",
    "# use our pre-defined decision tree classifier together with the implemented\n",
    "# boosting to classify data points in the training data\n",
    "classifier = BoostClassifier(DecisionTreeClassifier(), T=10).trainClassifier(xTrpca, yTr)\n",
    "yPr = classifier.classify(xTepca)\n",
    "# choose a test point to visualize\n",
    "testind = random.randint(0, xTe.shape[0]-1)\n",
    "# visualize the test point together with the training points used to train\n",
    "# the class that the test point was classified to belong to\n",
    "visualizeOlivettiVectors(xTr[yTr == yPr[testind],:], xTe[testind,:])"
   ]
  }
 ],
 "metadata": {
  "kernelspec": {
   "display_name": "Python 2",
   "language": "python",
   "name": "python2"
  },
  "language_info": {
   "codemirror_mode": {
    "name": "ipython",
    "version": 2
   },
   "file_extension": ".py",
   "mimetype": "text/x-python",
   "name": "python",
   "nbconvert_exporter": "python",
   "pygments_lexer": "ipython2",
   "version": "2.7.15"
  }
 },
 "nbformat": 4,
 "nbformat_minor": 1
}
